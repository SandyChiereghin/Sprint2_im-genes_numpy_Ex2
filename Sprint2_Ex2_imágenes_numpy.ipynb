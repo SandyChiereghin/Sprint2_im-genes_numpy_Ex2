{
 "cells": [
  {
   "cell_type": "markdown",
   "id": "ea2b3871",
   "metadata": {},
   "source": [
    "## Sprint2_Ex2_imágenes_numpy\n"
   ]
  },
  {
   "cell_type": "markdown",
   "id": "7e86e0f4",
   "metadata": {},
   "source": [
    "### Nivel 1"
   ]
  },
  {
   "cell_type": "markdown",
   "id": "ce9d7a9f",
   "metadata": {},
   "source": [
    "Ejercicio 1\n",
    "1. Crea un np.array de una dimensión, que incluya al menos 8 números enteros, data type int64. \n",
    "2. Muestra la dimensión y la forma de la matriz. ."
   ]
  },
  {
   "cell_type": "code",
   "execution_count": null,
   "id": "d7cb0c33-87ff-44fa-a55f-b75492010e25",
   "metadata": {},
   "outputs": [],
   "source": [
    "import numpy as np"
   ]
  },
  {
   "cell_type": "code",
   "execution_count": 10,
   "id": "60ce8652",
   "metadata": {},
   "outputs": [
    {
     "name": "stdout",
     "output_type": "stream",
     "text": [
      "[ 1  2  3 10 40 19 99 32]\n",
      "El array tiene el siguyente número de dimensiones:  1\n",
      "(8,)\n",
      "int64\n"
     ]
    }
   ],
   "source": [
    "\n",
    "array = np.array([1, 2, 3, 10, 40,19,99,32], dtype='int64')\n",
    "\n",
    "print(array)\n",
    "print(\"El array tiene el siguyente número de dimensiones: \",array.ndim)\n",
    "print(array.shape)\n",
    "print(array.dtype)"
   ]
  },
  {
   "cell_type": "markdown",
   "id": "e8e438be-06a3-499b-ac32-90221af16226",
   "metadata": {},
   "source": [
    "#### - Exercici 2\n",
    "De la matriu de l'exercici 1, calcula el valor mitjà dels valors introduïts.\n",
    "\n"
   ]
  },
  {
   "cell_type": "code",
   "execution_count": 10,
   "id": "1465eb1d-f268-4aa6-ab30-c04d795e4b7f",
   "metadata": {},
   "outputs": [
    {
     "name": "stdout",
     "output_type": "stream",
     "text": [
      "206\n"
     ]
    }
   ],
   "source": [
    "sum = 0\n",
    "\n",
    "for i in range(len(array)):\n",
    "    sum = sum + array[i]\n",
    "\n",
    "print(sum)"
   ]
  },
  {
   "cell_type": "code",
   "execution_count": 18,
   "id": "9711fc11-de6e-4910-932d-e58be8a876dd",
   "metadata": {},
   "outputs": [
    {
     "name": "stdout",
     "output_type": "stream",
     "text": [
      "La media es:  25.75\n"
     ]
    }
   ],
   "source": [
    "print (\"La media es: \",sum /len(array))"
   ]
  },
  {
   "cell_type": "code",
   "execution_count": 42,
   "id": "453e8beb-02ff-40b8-a8cc-ef949176d4f3",
   "metadata": {},
   "outputs": [
    {
     "name": "stdout",
     "output_type": "stream",
     "text": [
      "[[1 2 3]\n",
      " [4 5 6]]\n"
     ]
    }
   ],
   "source": [
    "\n"
   ]
  },
  {
   "cell_type": "markdown",
   "id": "48d71455-62df-4742-a145-76976d0fdc0d",
   "metadata": {},
   "source": [
    "#### Ex 3.\n",
    "\n",
    "1. Crea una matriu bidimensional amb una forma de 5 x 5. \n",
    "2. Extreu el valor màxim de la matriu, i els valors màxims de cadascun dels seus eixos."
   ]
  },
  {
   "cell_type": "code",
   "execution_count": 22,
   "id": "c78e79f8-9fea-4e0f-8e3d-0fc284791349",
   "metadata": {},
   "outputs": [
    {
     "name": "stdout",
     "output_type": "stream",
     "text": [
      "[[10 12  4  1 18]\n",
      " [ 2  9  7  2  3]\n",
      " [11  4  6  6  9]\n",
      " [ 5  6 17 10 18]\n",
      " [12  4 14 18 10]]\n",
      "La dimension del array es:  2\n",
      "La forma del array es:  (5, 5)\n",
      "int64\n"
     ]
    }
   ],
   "source": [
    "import numpy as np\n",
    "#random Integer values\n",
    "array_2= np.random.randint(1,20, size=(5,5))\n",
    "#array_2 = np.array([[1,2,3,4,5],[6,7,8,9,10],[11,12,13,14,15],[16,17,18,19,20],[21,22,23,24,25]])\n",
    "print(array_2)\n",
    "print(\"La dimension del array es: \",array_2.ndim)\n",
    "print(\"La forma del array es: \",array_2.shape)\n",
    "print(array_2.dtype)"
   ]
  },
  {
   "cell_type": "code",
   "execution_count": 35,
   "id": "9d4eeb3b-7c8d-4f18-bfec-7fdbb03e78b0",
   "metadata": {},
   "outputs": [
    {
     "name": "stdout",
     "output_type": "stream",
     "text": [
      "El numero máximo de la matriz es:  18\n",
      "El numero maximo de cada colimna es:  [12 12 17 18 18]\n",
      "El numero maximo de cada fila es:  [18  9 11 18 18]\n"
     ]
    }
   ],
   "source": [
    "#[r,c]\n",
    "#max in column axis=0\n",
    "#max in row axis=1\n",
    "maxElement = np.amax(array_2)\n",
    "maxInColumn = np.amax(array_2, axis=0)\n",
    "maxInRow = np.amax(array_2, axis=1)\n",
    "print(\"El numero máximo de la matriz es: \",maxElement)\n",
    "print(\"El numero maximo de cada colimna es: \",maxInColumn)\n",
    "print(\"El numero maximo de cada fila es: \", maxInRow)"
   ]
  },
  {
   "cell_type": "code",
   "execution_count": null,
   "id": "45dc7faa-48ec-4282-959e-4038df030558",
   "metadata": {},
   "outputs": [],
   "source": []
  }
 ],
 "metadata": {
  "kernelspec": {
   "display_name": "Python 3 (ipykernel)",
   "language": "python",
   "name": "python3"
  },
  "language_info": {
   "codemirror_mode": {
    "name": "ipython",
    "version": 3
   },
   "file_extension": ".py",
   "mimetype": "text/x-python",
   "name": "python",
   "nbconvert_exporter": "python",
   "pygments_lexer": "ipython3",
   "version": "3.9.7"
  }
 },
 "nbformat": 4,
 "nbformat_minor": 5
}
